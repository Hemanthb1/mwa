{
 "cells": [
  {
   "cell_type": "code",
   "execution_count": 1,
   "id": "1b9e9033",
   "metadata": {
    "_cell_guid": "b1076dfc-b9ad-4769-8c92-a6c4dae69d19",
    "_uuid": "8f2839f25d086af736a60e9eeb907d3b93b6e0e5",
    "execution": {
     "iopub.execute_input": "2022-11-20T20:02:39.439438Z",
     "iopub.status.busy": "2022-11-20T20:02:39.438826Z",
     "iopub.status.idle": "2022-11-20T20:02:39.454416Z",
     "shell.execute_reply": "2022-11-20T20:02:39.453153Z"
    },
    "papermill": {
     "duration": 0.026109,
     "end_time": "2022-11-20T20:02:39.457348",
     "exception": false,
     "start_time": "2022-11-20T20:02:39.431239",
     "status": "completed"
    },
    "tags": []
   },
   "outputs": [
    {
     "name": "stdout",
     "output_type": "stream",
     "text": [
      "/kaggle/input/nlp-getting-started/sample_submission.csv\n",
      "/kaggle/input/nlp-getting-started/train.csv\n",
      "/kaggle/input/nlp-getting-started/test.csv\n"
     ]
    }
   ],
   "source": [
    "# This Python 3 environment comes with many helpful analytics libraries installed\n",
    "# It is defined by the kaggle/python Docker image: https://github.com/kaggle/docker-python\n",
    "# For example, here's several helpful packages to load\n",
    "\n",
    "import numpy as np # linear algebra\n",
    "import pandas as pd # data processing, CSV file I/O (e.g. pd.read_csv)\n",
    "\n",
    "# Input data files are available in the read-only \"../input/\" directory\n",
    "# For example, running this (by clicking run or pressing Shift+Enter) will list all files under the input directory\n",
    "\n",
    "import os\n",
    "for dirname, _, filenames in os.walk('/kaggle/input'):\n",
    "    for filename in filenames:\n",
    "        print(os.path.join(dirname, filename))\n",
    "\n",
    "# You can write up to 20GB to the current directory (/kaggle/working/) that gets preserved as output when you create a version using \"Save & Run All\" \n",
    "# You can also write temporary files to /kaggle/temp/, but they won't be saved outside of the current session"
   ]
  },
  {
   "cell_type": "code",
   "execution_count": 2,
   "id": "f5e811cc",
   "metadata": {
    "execution": {
     "iopub.execute_input": "2022-11-20T20:02:39.469693Z",
     "iopub.status.busy": "2022-11-20T20:02:39.468756Z",
     "iopub.status.idle": "2022-11-20T20:02:40.800582Z",
     "shell.execute_reply": "2022-11-20T20:02:40.799039Z"
    },
    "papermill": {
     "duration": 1.341938,
     "end_time": "2022-11-20T20:02:40.804001",
     "exception": false,
     "start_time": "2022-11-20T20:02:39.462063",
     "status": "completed"
    },
    "tags": []
   },
   "outputs": [],
   "source": [
    "from sklearn import feature_extraction, linear_model, model_selection, preprocessing,tree\n"
   ]
  },
  {
   "cell_type": "code",
   "execution_count": 3,
   "id": "cdbb6d06",
   "metadata": {
    "execution": {
     "iopub.execute_input": "2022-11-20T20:02:40.817231Z",
     "iopub.status.busy": "2022-11-20T20:02:40.816786Z",
     "iopub.status.idle": "2022-11-20T20:02:40.894024Z",
     "shell.execute_reply": "2022-11-20T20:02:40.892737Z"
    },
    "papermill": {
     "duration": 0.08628,
     "end_time": "2022-11-20T20:02:40.896989",
     "exception": false,
     "start_time": "2022-11-20T20:02:40.810709",
     "status": "completed"
    },
    "tags": []
   },
   "outputs": [],
   "source": [
    "train_df = pd.read_csv(\"/kaggle/input/nlp-getting-started/train.csv\")\n",
    "test_df = pd.read_csv(\"/kaggle/input/nlp-getting-started/test.csv\")"
   ]
  },
  {
   "cell_type": "code",
   "execution_count": 4,
   "id": "2915358b",
   "metadata": {
    "execution": {
     "iopub.execute_input": "2022-11-20T20:02:40.907668Z",
     "iopub.status.busy": "2022-11-20T20:02:40.907290Z",
     "iopub.status.idle": "2022-11-20T20:02:40.912542Z",
     "shell.execute_reply": "2022-11-20T20:02:40.911277Z"
    },
    "papermill": {
     "duration": 0.013606,
     "end_time": "2022-11-20T20:02:40.915140",
     "exception": false,
     "start_time": "2022-11-20T20:02:40.901534",
     "status": "completed"
    },
    "tags": []
   },
   "outputs": [],
   "source": [
    "from sklearn.feature_extraction.text import TfidfVectorizer"
   ]
  },
  {
   "cell_type": "code",
   "execution_count": 5,
   "id": "c0c0cd08",
   "metadata": {
    "execution": {
     "iopub.execute_input": "2022-11-20T20:02:40.925988Z",
     "iopub.status.busy": "2022-11-20T20:02:40.925591Z",
     "iopub.status.idle": "2022-11-20T20:02:40.944790Z",
     "shell.execute_reply": "2022-11-20T20:02:40.943373Z"
    },
    "papermill": {
     "duration": 0.027856,
     "end_time": "2022-11-20T20:02:40.947607",
     "exception": false,
     "start_time": "2022-11-20T20:02:40.919751",
     "status": "completed"
    },
    "tags": []
   },
   "outputs": [
    {
     "data": {
      "text/plain": [
       "'My car is so fast'"
      ]
     },
     "execution_count": 5,
     "metadata": {},
     "output_type": "execute_result"
    }
   ],
   "source": [
    "train_df[train_df[\"target\"] == 0][\"text\"].values[3]"
   ]
  },
  {
   "cell_type": "code",
   "execution_count": 6,
   "id": "b1f79d42",
   "metadata": {
    "execution": {
     "iopub.execute_input": "2022-11-20T20:02:40.959711Z",
     "iopub.status.busy": "2022-11-20T20:02:40.958484Z",
     "iopub.status.idle": "2022-11-20T20:02:41.234354Z",
     "shell.execute_reply": "2022-11-20T20:02:41.232690Z"
    },
    "papermill": {
     "duration": 0.285038,
     "end_time": "2022-11-20T20:02:41.237368",
     "exception": false,
     "start_time": "2022-11-20T20:02:40.952330",
     "status": "completed"
    },
    "tags": []
   },
   "outputs": [],
   "source": [
    "vectorizer = TfidfVectorizer()\n",
    "X = vectorizer.fit_transform(train_df[\"text\"])\n",
    "Y = vectorizer.transform(test_df[\"text\"])"
   ]
  },
  {
   "cell_type": "code",
   "execution_count": 7,
   "id": "79a11b55",
   "metadata": {
    "execution": {
     "iopub.execute_input": "2022-11-20T20:02:41.249230Z",
     "iopub.status.busy": "2022-11-20T20:02:41.248066Z",
     "iopub.status.idle": "2022-11-20T20:02:41.274357Z",
     "shell.execute_reply": "2022-11-20T20:02:41.273228Z"
    },
    "papermill": {
     "duration": 0.034857,
     "end_time": "2022-11-20T20:02:41.276684",
     "exception": false,
     "start_time": "2022-11-20T20:02:41.241827",
     "status": "completed"
    },
    "tags": []
   },
   "outputs": [
    {
     "data": {
      "text/plain": [
       "array(['00', '000', '0000', ..., 'ûónegligence', 'ûótech', 'ûówe'],\n",
       "      dtype=object)"
      ]
     },
     "execution_count": 7,
     "metadata": {},
     "output_type": "execute_result"
    }
   ],
   "source": [
    "vectorizer.get_feature_names_out()\n"
   ]
  },
  {
   "cell_type": "code",
   "execution_count": 8,
   "id": "db1aa388",
   "metadata": {
    "execution": {
     "iopub.execute_input": "2022-11-20T20:02:41.287750Z",
     "iopub.status.busy": "2022-11-20T20:02:41.286835Z",
     "iopub.status.idle": "2022-11-20T20:02:41.323436Z",
     "shell.execute_reply": "2022-11-20T20:02:41.321804Z"
    },
    "papermill": {
     "duration": 0.047323,
     "end_time": "2022-11-20T20:02:41.328414",
     "exception": false,
     "start_time": "2022-11-20T20:02:41.281091",
     "status": "completed"
    },
    "tags": []
   },
   "outputs": [],
   "source": [
    "from sklearn.decomposition import TruncatedSVD\n",
    "from sklearn.pipeline import Pipeline\n",
    "\n",
    "  \n",
    "# raw documents to tf-idf matrix: \n",
    "vectorizer = TfidfVectorizer(stop_words='english', \n",
    "                             use_idf=True, \n",
    "                             smooth_idf=True)\n",
    "# SVD to reduce dimensionality: \n",
    "svd_model = TruncatedSVD(n_components=4,         \n",
    "                         algorithm='randomized',\n",
    "                         n_iter=10)\n",
    "# pipeline of tf-idf + SVD, fit to and applied to documents:\n",
    "svd_transformer = Pipeline([('tfidf', vectorizer), \n",
    "                            ('svd', svd_model)])\n",
    "svd_matrix = svd_transformer.fit_transform(train_df)"
   ]
  },
  {
   "cell_type": "code",
   "execution_count": 9,
   "id": "8250c1c5",
   "metadata": {
    "execution": {
     "iopub.execute_input": "2022-11-20T20:02:41.353493Z",
     "iopub.status.busy": "2022-11-20T20:02:41.352737Z",
     "iopub.status.idle": "2022-11-20T20:02:41.523580Z",
     "shell.execute_reply": "2022-11-20T20:02:41.522071Z"
    },
    "papermill": {
     "duration": 0.188364,
     "end_time": "2022-11-20T20:02:41.527952",
     "exception": false,
     "start_time": "2022-11-20T20:02:41.339588",
     "status": "completed"
    },
    "tags": []
   },
   "outputs": [
    {
     "data": {
      "text/plain": [
       "array([0.63366337, 0.6122449 , 0.68442211])"
      ]
     },
     "execution_count": 9,
     "metadata": {},
     "output_type": "execute_result"
    }
   ],
   "source": [
    "clf = linear_model.RidgeClassifier()\n",
    "scores = model_selection.cross_val_score(clf, X, train_df[\"target\"], cv=3, scoring=\"f1\")\n",
    "scores"
   ]
  },
  {
   "cell_type": "code",
   "execution_count": 10,
   "id": "8cfb4403",
   "metadata": {
    "execution": {
     "iopub.execute_input": "2022-11-20T20:02:41.554817Z",
     "iopub.status.busy": "2022-11-20T20:02:41.554144Z",
     "iopub.status.idle": "2022-11-20T20:02:41.631545Z",
     "shell.execute_reply": "2022-11-20T20:02:41.629934Z"
    },
    "papermill": {
     "duration": 0.096425,
     "end_time": "2022-11-20T20:02:41.636903",
     "exception": false,
     "start_time": "2022-11-20T20:02:41.540478",
     "status": "completed"
    },
    "tags": []
   },
   "outputs": [
    {
     "data": {
      "text/plain": [
       "RidgeClassifier()"
      ]
     },
     "execution_count": 10,
     "metadata": {},
     "output_type": "execute_result"
    }
   ],
   "source": [
    "clf.fit(X, train_df[\"target\"])"
   ]
  },
  {
   "cell_type": "code",
   "execution_count": 11,
   "id": "ba5cad8c",
   "metadata": {
    "execution": {
     "iopub.execute_input": "2022-11-20T20:02:41.663148Z",
     "iopub.status.busy": "2022-11-20T20:02:41.662478Z",
     "iopub.status.idle": "2022-11-20T20:02:41.681101Z",
     "shell.execute_reply": "2022-11-20T20:02:41.679531Z"
    },
    "papermill": {
     "duration": 0.036019,
     "end_time": "2022-11-20T20:02:41.685461",
     "exception": false,
     "start_time": "2022-11-20T20:02:41.649442",
     "status": "completed"
    },
    "tags": []
   },
   "outputs": [],
   "source": [
    "sample_submission = pd.read_csv(\"/kaggle/input/nlp-getting-started/sample_submission.csv\")\n",
    "sample_submission[\"target\"] = clf.predict(Y)"
   ]
  },
  {
   "cell_type": "code",
   "execution_count": 12,
   "id": "14b01d06",
   "metadata": {
    "execution": {
     "iopub.execute_input": "2022-11-20T20:02:41.711049Z",
     "iopub.status.busy": "2022-11-20T20:02:41.710395Z",
     "iopub.status.idle": "2022-11-20T20:02:41.723060Z",
     "shell.execute_reply": "2022-11-20T20:02:41.721486Z"
    },
    "papermill": {
     "duration": 0.03041,
     "end_time": "2022-11-20T20:02:41.727704",
     "exception": false,
     "start_time": "2022-11-20T20:02:41.697294",
     "status": "completed"
    },
    "tags": []
   },
   "outputs": [],
   "source": [
    "sample_submission[\"target\"] = clf.predict(Y)"
   ]
  },
  {
   "cell_type": "code",
   "execution_count": 13,
   "id": "4cc90492",
   "metadata": {
    "execution": {
     "iopub.execute_input": "2022-11-20T20:02:41.745020Z",
     "iopub.status.busy": "2022-11-20T20:02:41.744667Z",
     "iopub.status.idle": "2022-11-20T20:02:41.759825Z",
     "shell.execute_reply": "2022-11-20T20:02:41.758821Z"
    },
    "papermill": {
     "duration": 0.02384,
     "end_time": "2022-11-20T20:02:41.762544",
     "exception": false,
     "start_time": "2022-11-20T20:02:41.738704",
     "status": "completed"
    },
    "tags": []
   },
   "outputs": [
    {
     "data": {
      "text/html": [
       "<div>\n",
       "<style scoped>\n",
       "    .dataframe tbody tr th:only-of-type {\n",
       "        vertical-align: middle;\n",
       "    }\n",
       "\n",
       "    .dataframe tbody tr th {\n",
       "        vertical-align: top;\n",
       "    }\n",
       "\n",
       "    .dataframe thead th {\n",
       "        text-align: right;\n",
       "    }\n",
       "</style>\n",
       "<table border=\"1\" class=\"dataframe\">\n",
       "  <thead>\n",
       "    <tr style=\"text-align: right;\">\n",
       "      <th></th>\n",
       "      <th>id</th>\n",
       "      <th>target</th>\n",
       "    </tr>\n",
       "  </thead>\n",
       "  <tbody>\n",
       "    <tr>\n",
       "      <th>0</th>\n",
       "      <td>0</td>\n",
       "      <td>1</td>\n",
       "    </tr>\n",
       "    <tr>\n",
       "      <th>1</th>\n",
       "      <td>2</td>\n",
       "      <td>1</td>\n",
       "    </tr>\n",
       "    <tr>\n",
       "      <th>2</th>\n",
       "      <td>3</td>\n",
       "      <td>1</td>\n",
       "    </tr>\n",
       "    <tr>\n",
       "      <th>3</th>\n",
       "      <td>9</td>\n",
       "      <td>0</td>\n",
       "    </tr>\n",
       "    <tr>\n",
       "      <th>4</th>\n",
       "      <td>11</td>\n",
       "      <td>1</td>\n",
       "    </tr>\n",
       "  </tbody>\n",
       "</table>\n",
       "</div>"
      ],
      "text/plain": [
       "   id  target\n",
       "0   0       1\n",
       "1   2       1\n",
       "2   3       1\n",
       "3   9       0\n",
       "4  11       1"
      ]
     },
     "execution_count": 13,
     "metadata": {},
     "output_type": "execute_result"
    }
   ],
   "source": [
    "sample_submission.head()"
   ]
  },
  {
   "cell_type": "code",
   "execution_count": null,
   "id": "973d7e6c",
   "metadata": {
    "execution": {
     "iopub.execute_input": "2022-11-20T19:36:26.976418Z",
     "iopub.status.busy": "2022-11-20T19:36:26.975937Z",
     "iopub.status.idle": "2022-11-20T19:36:26.983543Z",
     "shell.execute_reply": "2022-11-20T19:36:26.981824Z",
     "shell.execute_reply.started": "2022-11-20T19:36:26.976376Z"
    },
    "papermill": {
     "duration": 0.004456,
     "end_time": "2022-11-20T20:02:41.771835",
     "exception": false,
     "start_time": "2022-11-20T20:02:41.767379",
     "status": "completed"
    },
    "tags": []
   },
   "outputs": [],
   "source": []
  }
 ],
 "metadata": {
  "kernelspec": {
   "display_name": "Python 3",
   "language": "python",
   "name": "python3"
  },
  "language_info": {
   "codemirror_mode": {
    "name": "ipython",
    "version": 3
   },
   "file_extension": ".py",
   "mimetype": "text/x-python",
   "name": "python",
   "nbconvert_exporter": "python",
   "pygments_lexer": "ipython3",
   "version": "3.7.12"
  },
  "papermill": {
   "default_parameters": {},
   "duration": 12.043309,
   "end_time": "2022-11-20T20:02:42.702210",
   "environment_variables": {},
   "exception": null,
   "input_path": "__notebook__.ipynb",
   "output_path": "__notebook__.ipynb",
   "parameters": {},
   "start_time": "2022-11-20T20:02:30.658901",
   "version": "2.3.4"
  }
 },
 "nbformat": 4,
 "nbformat_minor": 5
}
